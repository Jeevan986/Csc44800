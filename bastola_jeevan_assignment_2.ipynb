{
  "cells": [
    {
      "cell_type": "markdown",
      "metadata": {
        "id": "view-in-github",
        "colab_type": "text"
      },
      "source": [
        "<a href=\"https://colab.research.google.com/github/Jeevan986/Csc44800/blob/main/bastola_jeevan_assignment_2.ipynb\" target=\"_parent\"><img src=\"https://colab.research.google.com/assets/colab-badge.svg\" alt=\"Open In Colab\"/></a>"
      ]
    },
    {
      "cell_type": "code",
      "execution_count": null,
      "id": "18723b7a",
      "metadata": {
        "id": "18723b7a",
        "outputId": "1bf6cc63-f717-4901-f6e5-da68e2d989a3"
      },
      "outputs": [
        {
          "name": "stdout",
          "output_type": "stream",
          "text": [
            "Enter the elements of first set: \n",
            "\n",
            "Enter x when you're done entering the elements of the set\n",
            "\n",
            "2\n",
            "3\n",
            "4\n",
            "5\n",
            "x\n",
            "Enter the elements of second set: \n",
            "\n",
            "Enter x when you're done entering the elements of the set\n",
            "\n",
            "6\n",
            "7\n",
            "8\n",
            "9\n",
            "x\n",
            "The Cartesian Product is : {('3', '9'), ('5', '7'), ('5', '8'), ('4', '8'), ('4', '9'), ('5', '9'), ('3', '8'), ('2', '7'), ('2', '6'), ('3', '6'), ('3', '7'), ('2', '8'), ('2', '9'), ('5', '6'), ('4', '7'), ('4', '6')}\n"
          ]
        }
      ],
      "source": [
        "def cartesian(l_1,l_2):\n",
        "    while(True):\n",
        "        try:\n",
        "            print(\"Enter the elements of first set: \\n\")\n",
        "            print(\"Enter x when you're done entering the elements of the set\\n\")\n",
        "            n=''\n",
        "            #user can input elements until x is pressed\n",
        "            while n!='x':\n",
        "                n=''\n",
        "                n+=input()\n",
        "                l_1.append(n)\n",
        "            #removing x from the list\n",
        "            l_1.remove('x')\n",
        "            #rainsing exception if the list is empty\n",
        "            if len(l_1)==0:\n",
        "                raise exception\n",
        "            print(\"Enter the elements of second set: \\n\")\n",
        "            print(\"Enter x when you're done entering the elements of the set\\n\")\n",
        "            k=''\n",
        "            while k!='x':\n",
        "                k=''\n",
        "                k+=input()\n",
        "                l_2.append(k)\n",
        "            l_2.remove('x')\n",
        "            if len(l_2)==0:\n",
        "                raise exception\n",
        "            res = {(a, b) for a in l_1 for b in l_2}\n",
        "        \n",
        "            print(\"The Cartesian Product is : \" + str(res))\n",
        "            break\n",
        "        except:\n",
        "            print(\"The set you entered was empty. Enter a non-empty set\\n\")\n",
        "l_1=[]\n",
        "l_2=[]\n",
        "cartesian(l_1,l_2)"
      ]
    },
    {
      "cell_type": "markdown",
      "id": "f7543650",
      "metadata": {
        "id": "f7543650"
      },
      "source": [
        "The code above finds the cartesian product of two sets. The user can input as many elements as they want into two sets and press x when they're done entering elements. After all the elements are input all the possible pairs from l_b and l_b aka the cartesian product of two sets is added to the set called res. After res is computed we can print out the res set. An exception is raised when an empty set is entered. "
      ]
    }
  ],
  "metadata": {
    "kernelspec": {
      "display_name": "Python 3 (ipykernel)",
      "language": "python",
      "name": "python3"
    },
    "language_info": {
      "codemirror_mode": {
        "name": "ipython",
        "version": 3
      },
      "file_extension": ".py",
      "mimetype": "text/x-python",
      "name": "python",
      "nbconvert_exporter": "python",
      "pygments_lexer": "ipython3",
      "version": "3.9.0"
    },
    "colab": {
      "name": "bastola_jeevan_assignment_2.ipynb",
      "provenance": [],
      "include_colab_link": true
    }
  },
  "nbformat": 4,
  "nbformat_minor": 5
}